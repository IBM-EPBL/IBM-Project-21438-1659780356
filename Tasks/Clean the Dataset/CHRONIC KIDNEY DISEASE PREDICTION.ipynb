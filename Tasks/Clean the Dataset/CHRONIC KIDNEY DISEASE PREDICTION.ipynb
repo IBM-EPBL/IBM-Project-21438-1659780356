{
 "cells": [
  {
   "cell_type": "markdown",
   "id": "8b5e5601",
   "metadata": {},
   "source": [
    "# Importing Libraries"
   ]
  },
  {
   "cell_type": "code",
   "execution_count": 1,
   "id": "fd9d27ea",
   "metadata": {},
   "outputs": [],
   "source": [
    "import pandas as pd\n",
    "import numpy as np\n",
    "from collections import Counter as c\n",
    "import matplotlib.pyplot as plt\n",
    "import seaborn as sns\n",
    "import missingno as msno\n",
    "from sklearn.metrics import accuracy_score\n",
    "from sklearn.metrics import confusion_matrix\n",
    "from sklearn.model_selection import train_test_split\n",
    "from sklearn.preprocessing import LabelEncoder\n",
    "from sklearn.linear_model import LogisticRegression \n",
    "import pickle "
   ]
  },
  {
   "cell_type": "markdown",
   "id": "0c45ec42",
   "metadata": {},
   "source": [
    "\n",
    "# Loading the Dataset"
   ]
  },
  {
   "cell_type": "code",
   "execution_count": 2,
   "id": "f731b341",
   "metadata": {},
   "outputs": [
    {
     "data": {
      "text/html": [
       "<div>\n",
       "<style scoped>\n",
       "    .dataframe tbody tr th:only-of-type {\n",
       "        vertical-align: middle;\n",
       "    }\n",
       "\n",
       "    .dataframe tbody tr th {\n",
       "        vertical-align: top;\n",
       "    }\n",
       "\n",
       "    .dataframe thead th {\n",
       "        text-align: right;\n",
       "    }\n",
       "</style>\n",
       "<table border=\"1\" class=\"dataframe\">\n",
       "  <thead>\n",
       "    <tr style=\"text-align: right;\">\n",
       "      <th></th>\n",
       "      <th>id</th>\n",
       "      <th>age</th>\n",
       "      <th>bp</th>\n",
       "      <th>sg</th>\n",
       "      <th>al</th>\n",
       "      <th>su</th>\n",
       "      <th>rbc</th>\n",
       "      <th>pc</th>\n",
       "      <th>pcc</th>\n",
       "      <th>ba</th>\n",
       "      <th>...</th>\n",
       "      <th>pcv</th>\n",
       "      <th>wc</th>\n",
       "      <th>rc</th>\n",
       "      <th>htn</th>\n",
       "      <th>dm</th>\n",
       "      <th>cad</th>\n",
       "      <th>appet</th>\n",
       "      <th>pe</th>\n",
       "      <th>ane</th>\n",
       "      <th>classification</th>\n",
       "    </tr>\n",
       "  </thead>\n",
       "  <tbody>\n",
       "    <tr>\n",
       "      <th>0</th>\n",
       "      <td>0</td>\n",
       "      <td>48.0</td>\n",
       "      <td>80.0</td>\n",
       "      <td>1.020</td>\n",
       "      <td>1.0</td>\n",
       "      <td>0.0</td>\n",
       "      <td>NaN</td>\n",
       "      <td>normal</td>\n",
       "      <td>notpresent</td>\n",
       "      <td>notpresent</td>\n",
       "      <td>...</td>\n",
       "      <td>44</td>\n",
       "      <td>7800</td>\n",
       "      <td>5.2</td>\n",
       "      <td>yes</td>\n",
       "      <td>yes</td>\n",
       "      <td>no</td>\n",
       "      <td>good</td>\n",
       "      <td>no</td>\n",
       "      <td>no</td>\n",
       "      <td>ckd</td>\n",
       "    </tr>\n",
       "    <tr>\n",
       "      <th>1</th>\n",
       "      <td>1</td>\n",
       "      <td>7.0</td>\n",
       "      <td>50.0</td>\n",
       "      <td>1.020</td>\n",
       "      <td>4.0</td>\n",
       "      <td>0.0</td>\n",
       "      <td>NaN</td>\n",
       "      <td>normal</td>\n",
       "      <td>notpresent</td>\n",
       "      <td>notpresent</td>\n",
       "      <td>...</td>\n",
       "      <td>38</td>\n",
       "      <td>6000</td>\n",
       "      <td>NaN</td>\n",
       "      <td>no</td>\n",
       "      <td>no</td>\n",
       "      <td>no</td>\n",
       "      <td>good</td>\n",
       "      <td>no</td>\n",
       "      <td>no</td>\n",
       "      <td>ckd</td>\n",
       "    </tr>\n",
       "    <tr>\n",
       "      <th>2</th>\n",
       "      <td>2</td>\n",
       "      <td>62.0</td>\n",
       "      <td>80.0</td>\n",
       "      <td>1.010</td>\n",
       "      <td>2.0</td>\n",
       "      <td>3.0</td>\n",
       "      <td>normal</td>\n",
       "      <td>normal</td>\n",
       "      <td>notpresent</td>\n",
       "      <td>notpresent</td>\n",
       "      <td>...</td>\n",
       "      <td>31</td>\n",
       "      <td>7500</td>\n",
       "      <td>NaN</td>\n",
       "      <td>no</td>\n",
       "      <td>yes</td>\n",
       "      <td>no</td>\n",
       "      <td>poor</td>\n",
       "      <td>no</td>\n",
       "      <td>yes</td>\n",
       "      <td>ckd</td>\n",
       "    </tr>\n",
       "    <tr>\n",
       "      <th>3</th>\n",
       "      <td>3</td>\n",
       "      <td>48.0</td>\n",
       "      <td>70.0</td>\n",
       "      <td>1.005</td>\n",
       "      <td>4.0</td>\n",
       "      <td>0.0</td>\n",
       "      <td>normal</td>\n",
       "      <td>abnormal</td>\n",
       "      <td>present</td>\n",
       "      <td>notpresent</td>\n",
       "      <td>...</td>\n",
       "      <td>32</td>\n",
       "      <td>6700</td>\n",
       "      <td>3.9</td>\n",
       "      <td>yes</td>\n",
       "      <td>no</td>\n",
       "      <td>no</td>\n",
       "      <td>poor</td>\n",
       "      <td>yes</td>\n",
       "      <td>yes</td>\n",
       "      <td>ckd</td>\n",
       "    </tr>\n",
       "    <tr>\n",
       "      <th>4</th>\n",
       "      <td>4</td>\n",
       "      <td>51.0</td>\n",
       "      <td>80.0</td>\n",
       "      <td>1.010</td>\n",
       "      <td>2.0</td>\n",
       "      <td>0.0</td>\n",
       "      <td>normal</td>\n",
       "      <td>normal</td>\n",
       "      <td>notpresent</td>\n",
       "      <td>notpresent</td>\n",
       "      <td>...</td>\n",
       "      <td>35</td>\n",
       "      <td>7300</td>\n",
       "      <td>4.6</td>\n",
       "      <td>no</td>\n",
       "      <td>no</td>\n",
       "      <td>no</td>\n",
       "      <td>good</td>\n",
       "      <td>no</td>\n",
       "      <td>no</td>\n",
       "      <td>ckd</td>\n",
       "    </tr>\n",
       "    <tr>\n",
       "      <th>5</th>\n",
       "      <td>5</td>\n",
       "      <td>60.0</td>\n",
       "      <td>90.0</td>\n",
       "      <td>1.015</td>\n",
       "      <td>3.0</td>\n",
       "      <td>0.0</td>\n",
       "      <td>NaN</td>\n",
       "      <td>NaN</td>\n",
       "      <td>notpresent</td>\n",
       "      <td>notpresent</td>\n",
       "      <td>...</td>\n",
       "      <td>39</td>\n",
       "      <td>7800</td>\n",
       "      <td>4.4</td>\n",
       "      <td>yes</td>\n",
       "      <td>yes</td>\n",
       "      <td>no</td>\n",
       "      <td>good</td>\n",
       "      <td>yes</td>\n",
       "      <td>no</td>\n",
       "      <td>ckd</td>\n",
       "    </tr>\n",
       "    <tr>\n",
       "      <th>6</th>\n",
       "      <td>6</td>\n",
       "      <td>68.0</td>\n",
       "      <td>70.0</td>\n",
       "      <td>1.010</td>\n",
       "      <td>0.0</td>\n",
       "      <td>0.0</td>\n",
       "      <td>NaN</td>\n",
       "      <td>normal</td>\n",
       "      <td>notpresent</td>\n",
       "      <td>notpresent</td>\n",
       "      <td>...</td>\n",
       "      <td>36</td>\n",
       "      <td>NaN</td>\n",
       "      <td>NaN</td>\n",
       "      <td>no</td>\n",
       "      <td>no</td>\n",
       "      <td>no</td>\n",
       "      <td>good</td>\n",
       "      <td>no</td>\n",
       "      <td>no</td>\n",
       "      <td>ckd</td>\n",
       "    </tr>\n",
       "    <tr>\n",
       "      <th>7</th>\n",
       "      <td>7</td>\n",
       "      <td>24.0</td>\n",
       "      <td>NaN</td>\n",
       "      <td>1.015</td>\n",
       "      <td>2.0</td>\n",
       "      <td>4.0</td>\n",
       "      <td>normal</td>\n",
       "      <td>abnormal</td>\n",
       "      <td>notpresent</td>\n",
       "      <td>notpresent</td>\n",
       "      <td>...</td>\n",
       "      <td>44</td>\n",
       "      <td>6900</td>\n",
       "      <td>5</td>\n",
       "      <td>no</td>\n",
       "      <td>yes</td>\n",
       "      <td>no</td>\n",
       "      <td>good</td>\n",
       "      <td>yes</td>\n",
       "      <td>no</td>\n",
       "      <td>ckd</td>\n",
       "    </tr>\n",
       "    <tr>\n",
       "      <th>8</th>\n",
       "      <td>8</td>\n",
       "      <td>52.0</td>\n",
       "      <td>100.0</td>\n",
       "      <td>1.015</td>\n",
       "      <td>3.0</td>\n",
       "      <td>0.0</td>\n",
       "      <td>normal</td>\n",
       "      <td>abnormal</td>\n",
       "      <td>present</td>\n",
       "      <td>notpresent</td>\n",
       "      <td>...</td>\n",
       "      <td>33</td>\n",
       "      <td>9600</td>\n",
       "      <td>4</td>\n",
       "      <td>yes</td>\n",
       "      <td>yes</td>\n",
       "      <td>no</td>\n",
       "      <td>good</td>\n",
       "      <td>no</td>\n",
       "      <td>yes</td>\n",
       "      <td>ckd</td>\n",
       "    </tr>\n",
       "    <tr>\n",
       "      <th>9</th>\n",
       "      <td>9</td>\n",
       "      <td>53.0</td>\n",
       "      <td>90.0</td>\n",
       "      <td>1.020</td>\n",
       "      <td>2.0</td>\n",
       "      <td>0.0</td>\n",
       "      <td>abnormal</td>\n",
       "      <td>abnormal</td>\n",
       "      <td>present</td>\n",
       "      <td>notpresent</td>\n",
       "      <td>...</td>\n",
       "      <td>29</td>\n",
       "      <td>12100</td>\n",
       "      <td>3.7</td>\n",
       "      <td>yes</td>\n",
       "      <td>yes</td>\n",
       "      <td>no</td>\n",
       "      <td>poor</td>\n",
       "      <td>no</td>\n",
       "      <td>yes</td>\n",
       "      <td>ckd</td>\n",
       "    </tr>\n",
       "  </tbody>\n",
       "</table>\n",
       "<p>10 rows × 26 columns</p>\n",
       "</div>"
      ],
      "text/plain": [
       "   id   age     bp     sg   al   su       rbc        pc         pcc  \\\n",
       "0   0  48.0   80.0  1.020  1.0  0.0       NaN    normal  notpresent   \n",
       "1   1   7.0   50.0  1.020  4.0  0.0       NaN    normal  notpresent   \n",
       "2   2  62.0   80.0  1.010  2.0  3.0    normal    normal  notpresent   \n",
       "3   3  48.0   70.0  1.005  4.0  0.0    normal  abnormal     present   \n",
       "4   4  51.0   80.0  1.010  2.0  0.0    normal    normal  notpresent   \n",
       "5   5  60.0   90.0  1.015  3.0  0.0       NaN       NaN  notpresent   \n",
       "6   6  68.0   70.0  1.010  0.0  0.0       NaN    normal  notpresent   \n",
       "7   7  24.0    NaN  1.015  2.0  4.0    normal  abnormal  notpresent   \n",
       "8   8  52.0  100.0  1.015  3.0  0.0    normal  abnormal     present   \n",
       "9   9  53.0   90.0  1.020  2.0  0.0  abnormal  abnormal     present   \n",
       "\n",
       "           ba  ...  pcv     wc   rc  htn   dm  cad appet   pe  ane  \\\n",
       "0  notpresent  ...   44   7800  5.2  yes  yes   no  good   no   no   \n",
       "1  notpresent  ...   38   6000  NaN   no   no   no  good   no   no   \n",
       "2  notpresent  ...   31   7500  NaN   no  yes   no  poor   no  yes   \n",
       "3  notpresent  ...   32   6700  3.9  yes   no   no  poor  yes  yes   \n",
       "4  notpresent  ...   35   7300  4.6   no   no   no  good   no   no   \n",
       "5  notpresent  ...   39   7800  4.4  yes  yes   no  good  yes   no   \n",
       "6  notpresent  ...   36    NaN  NaN   no   no   no  good   no   no   \n",
       "7  notpresent  ...   44   6900    5   no  yes   no  good  yes   no   \n",
       "8  notpresent  ...   33   9600    4  yes  yes   no  good   no  yes   \n",
       "9  notpresent  ...   29  12100  3.7  yes  yes   no  poor   no  yes   \n",
       "\n",
       "  classification  \n",
       "0            ckd  \n",
       "1            ckd  \n",
       "2            ckd  \n",
       "3            ckd  \n",
       "4            ckd  \n",
       "5            ckd  \n",
       "6            ckd  \n",
       "7            ckd  \n",
       "8            ckd  \n",
       "9            ckd  \n",
       "\n",
       "[10 rows x 26 columns]"
      ]
     },
     "execution_count": 2,
     "metadata": {},
     "output_type": "execute_result"
    }
   ],
   "source": [
    "data=pd.read_csv(r'D:\\IBM\\CKD.csv')\n",
    "data.head()\n",
    "data.tail()\n",
    "data.head(10)"
   ]
  },
  {
   "cell_type": "markdown",
   "id": "c3f407c1",
   "metadata": {},
   "source": [
    "# Drop id Column"
   ]
  },
  {
   "cell_type": "code",
   "execution_count": 3,
   "id": "59399334",
   "metadata": {},
   "outputs": [],
   "source": [
    "data.drop('id', axis = 1, inplace = True)"
   ]
  },
  {
   "cell_type": "markdown",
   "id": "42287fdc",
   "metadata": {},
   "source": [
    "# Renaming the columns"
   ]
  },
  {
   "cell_type": "code",
   "execution_count": 4,
   "id": "1232a49e",
   "metadata": {},
   "outputs": [
    {
     "data": {
      "text/plain": [
       "Index(['age', 'bp', 'sg', 'al', 'su', 'rbc', 'pc', 'pcc', 'ba', 'bgr', 'bu',\n",
       "       'sc', 'sod', 'pot', 'hemo', 'pcv', 'wc', 'rc', 'htn', 'dm', 'cad',\n",
       "       'appet', 'pe', 'ane', 'classification'],\n",
       "      dtype='object')"
      ]
     },
     "execution_count": 4,
     "metadata": {},
     "output_type": "execute_result"
    }
   ],
   "source": [
    "data.columns"
   ]
  },
  {
   "cell_type": "code",
   "execution_count": 5,
   "id": "d7294f80",
   "metadata": {},
   "outputs": [],
   "source": [
    "data.columns = ['age', 'blood_pressure', 'specific_gravity', 'albumin', 'sugar', 'red_blood_cells', 'pus_cell',\n",
    "              'pus_cell_clumps', 'bacteria', 'blood_glucose_random', 'blood_urea', 'serum_creatinine', 'sodium',\n",
    "              'potassium', 'haemoglobin', 'packed_cell_volume', 'white_blood_cell_count', 'red_blood_cell_count',\n",
    "              'hypertension', 'diabetes_mellitus', 'coronary_artery_disease', 'appetite', 'peda_edema',\n",
    "              'aanemia', 'class']"
   ]
  },
  {
   "cell_type": "code",
   "execution_count": 6,
   "id": "1f9b613a",
   "metadata": {},
   "outputs": [
    {
     "data": {
      "text/plain": [
       "Index(['age', 'blood_pressure', 'specific_gravity', 'albumin', 'sugar',\n",
       "       'red_blood_cells', 'pus_cell', 'pus_cell_clumps', 'bacteria',\n",
       "       'blood_glucose_random', 'blood_urea', 'serum_creatinine', 'sodium',\n",
       "       'potassium', 'haemoglobin', 'packed_cell_volume',\n",
       "       'white_blood_cell_count', 'red_blood_cell_count', 'hypertension',\n",
       "       'diabetes_mellitus', 'coronary_artery_disease', 'appetite',\n",
       "       'peda_edema', 'aanemia', 'class'],\n",
       "      dtype='object')"
      ]
     },
     "execution_count": 6,
     "metadata": {},
     "output_type": "execute_result"
    }
   ],
   "source": [
    "data.columns"
   ]
  },
  {
   "cell_type": "markdown",
   "id": "596560d1",
   "metadata": {},
   "source": [
    "# Understanding Data Type And Summary Of Features"
   ]
  },
  {
   "cell_type": "markdown",
   "id": "29344575",
   "metadata": {},
   "source": [
    "# Target Column"
   ]
  },
  {
   "cell_type": "code",
   "execution_count": 7,
   "id": "192bc40d",
   "metadata": {},
   "outputs": [
    {
     "data": {
      "text/plain": [
       "array(['ckd', 'ckd\\t', 'notckd'], dtype=object)"
      ]
     },
     "execution_count": 7,
     "metadata": {},
     "output_type": "execute_result"
    }
   ],
   "source": [
    "data['class'].unique()"
   ]
  },
  {
   "cell_type": "markdown",
   "id": "28d25a4d",
   "metadata": {},
   "source": [
    "# Rectifying the Target Column"
   ]
  },
  {
   "cell_type": "code",
   "execution_count": 8,
   "id": "8104269e",
   "metadata": {},
   "outputs": [
    {
     "data": {
      "text/plain": [
       "array(['ckd', 'notckd'], dtype=object)"
      ]
     },
     "execution_count": 8,
     "metadata": {},
     "output_type": "execute_result"
    }
   ],
   "source": [
    "data['class']=data['class'].replace(\"ckd\\t\", \"ckd\")\n",
    "data['class'].unique()"
   ]
  },
  {
   "cell_type": "code",
   "execution_count": 9,
   "id": "cb5b5440",
   "metadata": {},
   "outputs": [
    {
     "name": "stdout",
     "output_type": "stream",
     "text": [
      "['red_blood_cells', 'pus_cell', 'pus_cell_clumps', 'bacteria', 'packed_cell_volume', 'white_blood_cell_count', 'red_blood_cell_count', 'hypertension', 'diabetes_mellitus', 'coronary_artery_disease', 'appetite', 'peda_edema', 'aanemia', 'class']\n"
     ]
    }
   ],
   "source": [
    "catcols = [col for col in data.columns if data[col].dtype == 'object']\n",
    "numcols = [col for col in data.columns if data[col].dtype != 'object']\n",
    "print(catcols)"
   ]
  },
  {
   "cell_type": "markdown",
   "id": "ef0343b0",
   "metadata": {},
   "source": [
    "# Removing the Columns Which are Not Catogorical"
   ]
  },
  {
   "cell_type": "code",
   "execution_count": 10,
   "id": "9c37dd2f",
   "metadata": {},
   "outputs": [
    {
     "name": "stdout",
     "output_type": "stream",
     "text": [
      "['red_blood_cells', 'pus_cell', 'pus_cell_clumps', 'bacteria', 'hypertension', 'diabetes_mellitus', 'coronary_artery_disease', 'appetite', 'peda_edema', 'aanemia', 'class']\n"
     ]
    }
   ],
   "source": [
    "catcols.remove('red_blood_cell_count')\n",
    "catcols.remove('packed_cell_volume')\n",
    "catcols.remove('white_blood_cell_count')\n",
    "print(catcols)"
   ]
  },
  {
   "cell_type": "markdown",
   "id": "dfcf0870",
   "metadata": {},
   "source": [
    "# Numerical columns"
   ]
  },
  {
   "cell_type": "code",
   "execution_count": 11,
   "id": "61fb28eb",
   "metadata": {},
   "outputs": [
    {
     "name": "stdout",
     "output_type": "stream",
     "text": [
      "['age', 'blood_pressure', 'specific_gravity', 'albumin', 'sugar', 'blood_glucose_random', 'blood_urea', 'serum_creatinine', 'sodium', 'potassium', 'haemoglobin']\n"
     ]
    }
   ],
   "source": [
    "contcols = [col for col in data.columns if data[col].dtype != 'object']\n",
    "print(contcols)"
   ]
  },
  {
   "cell_type": "markdown",
   "id": "dc484837",
   "metadata": {},
   "source": [
    "# Removing the Columns Which are Not Numerical"
   ]
  },
  {
   "cell_type": "code",
   "execution_count": 12,
   "id": "3e4fd6a1",
   "metadata": {},
   "outputs": [
    {
     "name": "stdout",
     "output_type": "stream",
     "text": [
      "['age', 'blood_pressure', 'blood_glucose_random', 'blood_urea', 'serum_creatinine', 'sodium', 'potassium', 'haemoglobin']\n"
     ]
    }
   ],
   "source": [
    "contcols.remove('specific_gravity')\n",
    "contcols.remove('albumin')\n",
    "contcols.remove('sugar')\n",
    "print(contcols)"
   ]
  },
  {
   "cell_type": "markdown",
   "id": "bc7d7312",
   "metadata": {},
   "source": [
    "# Adding Columns Which We Found Continuous"
   ]
  },
  {
   "cell_type": "code",
   "execution_count": 13,
   "id": "e35c1813",
   "metadata": {},
   "outputs": [
    {
     "name": "stdout",
     "output_type": "stream",
     "text": [
      "['age', 'blood_pressure', 'blood_glucose_random', 'blood_urea', 'serum_creatinine', 'sodium', 'potassium', 'haemoglobin', 'red_blood_cell_count', 'packed_cell_volume', 'white_blood_cell_count']\n"
     ]
    }
   ],
   "source": [
    "contcols.append('red_blood_cell_count')\n",
    "contcols.append('packed_cell_volume')\n",
    "contcols.append('white_blood_cell_count')\n",
    "print(contcols)"
   ]
  },
  {
   "cell_type": "markdown",
   "id": "20468471",
   "metadata": {},
   "source": [
    "# Adding Columns Which We Found Categrical"
   ]
  },
  {
   "cell_type": "code",
   "execution_count": 14,
   "id": "3860d811",
   "metadata": {},
   "outputs": [
    {
     "name": "stdout",
     "output_type": "stream",
     "text": [
      "['red_blood_cells', 'pus_cell', 'pus_cell_clumps', 'bacteria', 'hypertension', 'diabetes_mellitus', 'coronary_artery_disease', 'appetite', 'peda_edema', 'aanemia', 'class', 'specific_gravity', 'albumin', 'sugar']\n"
     ]
    }
   ],
   "source": [
    "catcols.append('specific_gravity')\n",
    "catcols.append('albumin')\n",
    "catcols.append('sugar')\n",
    "print(catcols)"
   ]
  },
  {
   "cell_type": "markdown",
   "id": "ae25a64d",
   "metadata": {},
   "source": [
    "# Rectifying the Categorical Columns Classes"
   ]
  },
  {
   "cell_type": "code",
   "execution_count": 15,
   "id": "89934c0a",
   "metadata": {},
   "outputs": [
    {
     "data": {
      "text/plain": [
       "Counter({'no': 364, 'yes': 34, nan: 2})"
      ]
     },
     "execution_count": 15,
     "metadata": {},
     "output_type": "execute_result"
    }
   ],
   "source": [
    "data['coronary_artery_disease']=data.coronary_artery_disease.replace('\\tno','no')\n",
    "c(data['coronary_artery_disease'])"
   ]
  },
  {
   "cell_type": "code",
   "execution_count": 16,
   "id": "6ad3528a",
   "metadata": {},
   "outputs": [
    {
     "data": {
      "text/plain": [
       "Counter({'yes': 137, 'no': 261, nan: 2})"
      ]
     },
     "execution_count": 16,
     "metadata": {},
     "output_type": "execute_result"
    }
   ],
   "source": [
    "data['diabetes_mellitus']=data.diabetes_mellitus.replace('\\tno','no')\n",
    "data['diabetes_mellitus']=data.diabetes_mellitus.replace(' yes','yes')\n",
    "data['diabetes_mellitus']=data.diabetes_mellitus.replace('\\tyes','yes')\n",
    "c(data['diabetes_mellitus'])"
   ]
  },
  {
   "cell_type": "markdown",
   "id": "ca3199dd",
   "metadata": {},
   "source": [
    "# Handling the Missing Values"
   ]
  },
  {
   "cell_type": "markdown",
   "id": "c6fcc762",
   "metadata": {},
   "source": [
    "# Null Values"
   ]
  },
  {
   "cell_type": "code",
   "execution_count": 17,
   "id": "1ef53752",
   "metadata": {},
   "outputs": [
    {
     "data": {
      "text/plain": [
       "age                         True\n",
       "blood_pressure              True\n",
       "specific_gravity            True\n",
       "albumin                     True\n",
       "sugar                       True\n",
       "red_blood_cells             True\n",
       "pus_cell                    True\n",
       "pus_cell_clumps             True\n",
       "bacteria                    True\n",
       "blood_glucose_random        True\n",
       "blood_urea                  True\n",
       "serum_creatinine            True\n",
       "sodium                      True\n",
       "potassium                   True\n",
       "haemoglobin                 True\n",
       "packed_cell_volume          True\n",
       "white_blood_cell_count      True\n",
       "red_blood_cell_count        True\n",
       "hypertension                True\n",
       "diabetes_mellitus           True\n",
       "coronary_artery_disease     True\n",
       "appetite                    True\n",
       "peda_edema                  True\n",
       "aanemia                     True\n",
       "class                      False\n",
       "dtype: bool"
      ]
     },
     "execution_count": 17,
     "metadata": {},
     "output_type": "execute_result"
    }
   ],
   "source": [
    "data.isnull().any()"
   ]
  },
  {
   "cell_type": "code",
   "execution_count": 18,
   "id": "b088800a",
   "metadata": {},
   "outputs": [
    {
     "data": {
      "text/plain": [
       "age                          9\n",
       "blood_pressure              12\n",
       "specific_gravity            47\n",
       "albumin                     46\n",
       "sugar                       49\n",
       "red_blood_cells            152\n",
       "pus_cell                    65\n",
       "pus_cell_clumps              4\n",
       "bacteria                     4\n",
       "blood_glucose_random        44\n",
       "blood_urea                  19\n",
       "serum_creatinine            17\n",
       "sodium                      87\n",
       "potassium                   88\n",
       "haemoglobin                 52\n",
       "packed_cell_volume          70\n",
       "white_blood_cell_count     105\n",
       "red_blood_cell_count       130\n",
       "hypertension                 2\n",
       "diabetes_mellitus            2\n",
       "coronary_artery_disease      2\n",
       "appetite                     1\n",
       "peda_edema                   1\n",
       "aanemia                      1\n",
       "class                        0\n",
       "dtype: int64"
      ]
     },
     "execution_count": 18,
     "metadata": {},
     "output_type": "execute_result"
    }
   ],
   "source": [
    "data.isnull().sum()"
   ]
  },
  {
   "cell_type": "code",
   "execution_count": 19,
   "id": "b769a913",
   "metadata": {},
   "outputs": [],
   "source": [
    "data.packed_cell_volume = pd.to_numeric(data.packed_cell_volume, errors='coerce')\n",
    "data.white_blood_cell_count = pd.to_numeric(data.white_blood_cell_count, errors='coerce')\n",
    "data.red_blood_cell_count = pd.to_numeric(data.red_blood_cell_count, errors='coerce')"
   ]
  },
  {
   "cell_type": "markdown",
   "id": "b82a7c5d",
   "metadata": {},
   "source": [
    "# Replacing The Missing Values"
   ]
  },
  {
   "cell_type": "markdown",
   "id": "5d438019",
   "metadata": {},
   "source": [
    "# Handling Continous/Numerical Columns Null Values"
   ]
  },
  {
   "cell_type": "code",
   "execution_count": 20,
   "id": "4ee53c3d",
   "metadata": {},
   "outputs": [],
   "source": [
    "data['blood_glucose_random'].fillna(data['blood_glucose_random'].mean(),inplace=True)\n",
    "data['blood_pressure'].fillna(data['blood_pressure'].mean(),inplace=True)\n",
    "data['blood_urea'].fillna(data['blood_urea'].mean(),inplace=True)\n",
    "data['haemoglobin'].fillna(data['haemoglobin'].mean(),inplace=True)\n",
    "data['packed_cell_volume'].fillna(data['packed_cell_volume'].mean(),inplace=True)\n",
    "data['potassium'].fillna(data['potassium'].mean(),inplace=True)\n",
    "data['red_blood_cell_count'].fillna(data['red_blood_cell_count'].mean(),inplace=True)\n",
    "data['serum_creatinine'].fillna(data['serum_creatinine'].mean(),inplace=True)\n",
    "data['sodium'].fillna(data['sodium'].mean(),inplace=True)\n",
    "data['white_blood_cell_count'].fillna(data['white_blood_cell_count'].mean(),inplace=True)\n",
    "data['age'].fillna(data['age'].mode()[0],inplace=True)\n",
    "data['hypertension'].fillna(data['hypertension'].mode()[0],inplace=True)\n",
    "data['pus_cell_clumps'].fillna(data['pus_cell_clumps'].mode()[0],inplace=True)\n",
    "data['appetite'].fillna(data['appetite'].mode()[0],inplace=True)\n",
    "data['albumin'].fillna(data['albumin'].mode()[0],inplace=True)\n",
    "data['pus_cell'].fillna(data['pus_cell'].mode()[0],inplace=True)\n",
    "data['red_blood_cells'].fillna(data['red_blood_cells'].mode()[0],inplace=True)\n",
    "data['coronary_artery_disease'].fillna(data['coronary_artery_disease'].mode()[0],inplace=True)\n",
    "data['bacteria'].fillna(data['bacteria'].mode()[0],inplace=True)\n",
    "data['aanemia'].fillna(data['aanemia'].mode()[0],inplace=True)\n",
    "data['sugar'].fillna(data['sugar'].mode()[0],inplace=True)\n",
    "data['diabetes_mellitus'].fillna(data['diabetes_mellitus'].mode()[0],inplace=True)\n",
    "data['peda_edema'].fillna(data['peda_edema'].mode()[0],inplace=True)\n",
    "data['specific_gravity'].fillna(data['specific_gravity'].mode()[0],inplace=True)"
   ]
  },
  {
   "cell_type": "markdown",
   "id": "b643a7e7",
   "metadata": {},
   "source": [
    "# Label Encoding"
   ]
  },
  {
   "cell_type": "code",
   "execution_count": 21,
   "id": "faf1e9fd",
   "metadata": {},
   "outputs": [
    {
     "name": "stdout",
     "output_type": "stream",
     "text": [
      "LABEL ENCODING OF: red_blood_cells\n",
      "Counter({'normal': 353, 'abnormal': 47})\n",
      "Counter({1: 353, 0: 47})\n",
      "****************************************************************************************************\n",
      "LABEL ENCODING OF: pus_cell\n",
      "Counter({'normal': 324, 'abnormal': 76})\n",
      "Counter({1: 324, 0: 76})\n",
      "****************************************************************************************************\n",
      "LABEL ENCODING OF: pus_cell_clumps\n",
      "Counter({'notpresent': 358, 'present': 42})\n",
      "Counter({0: 358, 1: 42})\n",
      "****************************************************************************************************\n",
      "LABEL ENCODING OF: bacteria\n",
      "Counter({'notpresent': 378, 'present': 22})\n",
      "Counter({0: 378, 1: 22})\n",
      "****************************************************************************************************\n",
      "LABEL ENCODING OF: hypertension\n",
      "Counter({'no': 253, 'yes': 147})\n",
      "Counter({0: 253, 1: 147})\n",
      "****************************************************************************************************\n",
      "LABEL ENCODING OF: diabetes_mellitus\n",
      "Counter({'no': 263, 'yes': 137})\n",
      "Counter({0: 263, 1: 137})\n",
      "****************************************************************************************************\n",
      "LABEL ENCODING OF: coronary_artery_disease\n",
      "Counter({'no': 366, 'yes': 34})\n",
      "Counter({0: 366, 1: 34})\n",
      "****************************************************************************************************\n",
      "LABEL ENCODING OF: appetite\n",
      "Counter({'good': 318, 'poor': 82})\n",
      "Counter({0: 318, 1: 82})\n",
      "****************************************************************************************************\n",
      "LABEL ENCODING OF: peda_edema\n",
      "Counter({'no': 324, 'yes': 76})\n",
      "Counter({0: 324, 1: 76})\n",
      "****************************************************************************************************\n",
      "LABEL ENCODING OF: aanemia\n",
      "Counter({'no': 340, 'yes': 60})\n",
      "Counter({0: 340, 1: 60})\n",
      "****************************************************************************************************\n",
      "LABEL ENCODING OF: class\n",
      "Counter({'ckd': 250, 'notckd': 150})\n",
      "Counter({0: 250, 1: 150})\n",
      "****************************************************************************************************\n",
      "LABEL ENCODING OF: specific_gravity\n",
      "Counter({1.02: 153, 1.01: 84, 1.025: 81, 1.015: 75, 1.005: 7})\n",
      "Counter({3: 153, 1: 84, 4: 81, 2: 75, 0: 7})\n",
      "****************************************************************************************************\n",
      "LABEL ENCODING OF: albumin\n",
      "Counter({0.0: 245, 1.0: 44, 2.0: 43, 3.0: 43, 4.0: 24, 5.0: 1})\n",
      "Counter({0: 245, 1: 44, 2: 43, 3: 43, 4: 24, 5: 1})\n",
      "****************************************************************************************************\n",
      "LABEL ENCODING OF: sugar\n",
      "Counter({0.0: 339, 2.0: 18, 3.0: 14, 4.0: 13, 1.0: 13, 5.0: 3})\n",
      "Counter({0: 339, 2: 18, 3: 14, 4: 13, 1: 13, 5: 3})\n",
      "****************************************************************************************************\n"
     ]
    }
   ],
   "source": [
    "from sklearn.preprocessing import LabelEncoder\n",
    "for i in catcols:\n",
    "    print(\"LABEL ENCODING OF:\",i)\n",
    "    LEi = LabelEncoder()\n",
    "    print(c(data[i]))\n",
    "    data[i] = LEi.fit_transform(data[i])\n",
    "    print(c(data[i]))\n",
    "    print(\"*\"*100)"
   ]
  },
  {
   "cell_type": "markdown",
   "id": "342e3bd7",
   "metadata": {},
   "source": [
    "# Splitting The Dataset Into Dependent And Independent Variable"
   ]
  },
  {
   "cell_type": "markdown",
   "id": "d3f06adc",
   "metadata": {},
   "source": [
    "# Creating Independent and Dependent"
   ]
  },
  {
   "cell_type": "code",
   "execution_count": 22,
   "id": "f839c5a8",
   "metadata": {},
   "outputs": [
    {
     "name": "stdout",
     "output_type": "stream",
     "text": [
      "(400, 8)\n",
      "(400, 1)\n"
     ]
    }
   ],
   "source": [
    "selcols=['red_blood_cells', 'pus_cell','blood_glucose_random', 'blood_urea','peda_edema', 'aanemia','diabetes_mellitus', 'coronary_artery_disease']\n",
    "x=pd.DataFrame(data,columns=selcols)\n",
    "y=pd.DataFrame(data,columns=['class'])\n",
    "print(x.shape)\n",
    "print(y.shape)"
   ]
  },
  {
   "cell_type": "markdown",
   "id": "d6845b83",
   "metadata": {},
   "source": [
    "# Split The Dataset Into Train Set And Test Set"
   ]
  },
  {
   "cell_type": "code",
   "execution_count": 23,
   "id": "9111d4f6",
   "metadata": {},
   "outputs": [
    {
     "name": "stdout",
     "output_type": "stream",
     "text": [
      "(320, 8)\n",
      "(320, 1)\n",
      "(80, 8)\n",
      "(80, 1)\n"
     ]
    }
   ],
   "source": [
    "from sklearn.model_selection import train_test_split\n",
    "x_train,x_test,y_train,y_test=train_test_split(x,y,test_size=0.2,random_state=2)\n",
    "print(x_train.shape)\n",
    "print(y_train.shape)\n",
    "print(x_test.shape)\n",
    "print(y_test.shape)"
   ]
  },
  {
   "cell_type": "markdown",
   "id": "2cfc84bb",
   "metadata": {},
   "source": [
    "# Building a Machine Learning Model"
   ]
  },
  {
   "cell_type": "code",
   "execution_count": 24,
   "id": "ee11cb2c",
   "metadata": {},
   "outputs": [
    {
     "name": "stderr",
     "output_type": "stream",
     "text": [
      "C:\\Users\\Lenovo\\anaconda3\\lib\\site-packages\\sklearn\\utils\\validation.py:993: DataConversionWarning: A column-vector y was passed when a 1d array was expected. Please change the shape of y to (n_samples, ), for example using ravel().\n",
      "  y = column_or_1d(y, warn=True)\n",
      "C:\\Users\\Lenovo\\anaconda3\\lib\\site-packages\\sklearn\\linear_model\\_logistic.py:814: ConvergenceWarning: lbfgs failed to converge (status=1):\n",
      "STOP: TOTAL NO. of ITERATIONS REACHED LIMIT.\n",
      "\n",
      "Increase the number of iterations (max_iter) or scale the data as shown in:\n",
      "    https://scikit-learn.org/stable/modules/preprocessing.html\n",
      "Please also refer to the documentation for alternative solver options:\n",
      "    https://scikit-learn.org/stable/modules/linear_model.html#logistic-regression\n",
      "  n_iter_i = _check_optimize_result(\n"
     ]
    },
    {
     "data": {
      "text/plain": [
       "LogisticRegression()"
      ]
     },
     "execution_count": 24,
     "metadata": {},
     "output_type": "execute_result"
    }
   ],
   "source": [
    "from sklearn.linear_model import LogisticRegression\n",
    "lgr = LogisticRegression()\n",
    "lgr.fit(x_train,y_train)"
   ]
  },
  {
   "cell_type": "markdown",
   "id": "dc94a48a",
   "metadata": {},
   "source": [
    "# Test The Model"
   ]
  },
  {
   "cell_type": "markdown",
   "id": "67297d7e",
   "metadata": {},
   "source": [
    "# Predicting Our Output With the Model Which We Built"
   ]
  },
  {
   "cell_type": "code",
   "execution_count": 25,
   "id": "3202ab3a",
   "metadata": {},
   "outputs": [],
   "source": [
    "y_pred = lgr.predict(x_test)"
   ]
  },
  {
   "cell_type": "code",
   "execution_count": 26,
   "id": "13c02b8b",
   "metadata": {},
   "outputs": [
    {
     "name": "stdout",
     "output_type": "stream",
     "text": [
      "[1]\n"
     ]
    },
    {
     "name": "stderr",
     "output_type": "stream",
     "text": [
      "C:\\Users\\Lenovo\\anaconda3\\lib\\site-packages\\sklearn\\base.py:450: UserWarning: X does not have valid feature names, but LogisticRegression was fitted with feature names\n",
      "  warnings.warn(\n"
     ]
    },
    {
     "data": {
      "text/plain": [
       "Counter({1: 1})"
      ]
     },
     "execution_count": 26,
     "metadata": {},
     "output_type": "execute_result"
    }
   ],
   "source": [
    "y_pred = lgr.predict([[129,99,1,0,0,1,0,1]])\n",
    "print(y_pred)\n",
    "c(y_pred)"
   ]
  },
  {
   "cell_type": "markdown",
   "id": "3ac17b26",
   "metadata": {},
   "source": [
    "# Model Evaluation"
   ]
  },
  {
   "cell_type": "code",
   "execution_count": 27,
   "id": "d5b35dc6",
   "metadata": {},
   "outputs": [
    {
     "data": {
      "text/plain": [
       "0.925"
      ]
     },
     "execution_count": 27,
     "metadata": {},
     "output_type": "execute_result"
    }
   ],
   "source": [
    "y_pred = lgr.predict(x_test)\n",
    "accuracy_score(y_pred,y_test)"
   ]
  },
  {
   "cell_type": "markdown",
   "id": "0e3f29f4",
   "metadata": {},
   "source": [
    "# Confusion Matrix of Our Model"
   ]
  },
  {
   "cell_type": "code",
   "execution_count": 28,
   "id": "b069babc",
   "metadata": {},
   "outputs": [
    {
     "data": {
      "text/plain": [
       "array([[48,  6],\n",
       "       [ 0, 26]], dtype=int64)"
      ]
     },
     "execution_count": 28,
     "metadata": {},
     "output_type": "execute_result"
    }
   ],
   "source": [
    "confusion_matrix(y_test,y_pred)"
   ]
  },
  {
   "cell_type": "markdown",
   "id": "433e3734",
   "metadata": {},
   "source": [
    "# Save the Model"
   ]
  },
  {
   "cell_type": "markdown",
   "id": "a689779b",
   "metadata": {},
   "source": [
    "# Dumping Our Model in Pickle Form"
   ]
  },
  {
   "cell_type": "code",
   "execution_count": 29,
   "id": "9a3e04b5",
   "metadata": {},
   "outputs": [],
   "source": [
    "pickle.dump(lgr,open('CKD.pkl','wb'))"
   ]
  }
 ],
 "metadata": {
  "kernelspec": {
   "display_name": "Python 3 (ipykernel)",
   "language": "python",
   "name": "python3"
  },
  "language_info": {
   "codemirror_mode": {
    "name": "ipython",
    "version": 3
   },
   "file_extension": ".py",
   "mimetype": "text/x-python",
   "name": "python",
   "nbconvert_exporter": "python",
   "pygments_lexer": "ipython3",
   "version": "3.9.13"
  }
 },
 "nbformat": 4,
 "nbformat_minor": 5
}
